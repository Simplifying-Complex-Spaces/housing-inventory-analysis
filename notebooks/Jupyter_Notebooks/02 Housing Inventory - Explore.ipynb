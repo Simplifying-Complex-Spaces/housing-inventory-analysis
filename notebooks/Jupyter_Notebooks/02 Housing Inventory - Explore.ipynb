{
 "cells": [
  {
   "cell_type": "code",
   "metadata": {
    "ExecuteTime": {
     "end_time": "2025-07-09T23:29:13.976315Z",
     "start_time": "2025-07-09T23:29:13.549269Z"
    }
   },
   "source": [
    "%matplotlib inline"
   ],
   "outputs": [],
   "execution_count": 1
  },
  {
   "cell_type": "markdown",
   "metadata": {},
   "source": [
    "# Housing Inventory - Explore"
   ]
  },
  {
   "cell_type": "markdown",
   "metadata": {},
   "source": [
    "Foremost, let's get the data staged in our dataframe."
   ]
  },
  {
   "cell_type": "code",
   "metadata": {
    "jupyter": {
     "is_executing": true
    },
    "ExecuteTime": {
     "start_time": "2025-07-09T23:29:13.990991Z"
    }
   },
   "source": [
    "import pandas as pd\n",
    "from tabulate import tabulate\n",
    "import _ETL_sandbox.basic_helpers as hp\n",
    "import _ETL_sandbox.queries as q\n",
    "import _ETL_sandbox.convenience_routines as conv\n",
    "\n",
    "query = q.Queries()\n",
    "\n",
    "conv.get_and_check_db_file()\n",
    "db_con = conv.create_connection()\n",
    "df = pd.read_sql_query(sql=query.main_query, con=db_con.get('con'))\n",
    "conv.close_connection(db_con.get('con'))"
   ],
   "outputs": [],
   "execution_count": null
  },
  {
   "cell_type": "markdown",
   "metadata": {},
   "source": [
    "Let's check the count of observations before we start looking at both single and paired variables analysis in-depth."
   ]
  },
  {
   "cell_type": "code",
   "execution_count": null,
   "metadata": {
    "ExecuteTime": {
     "end_time": "2025-07-06T00:16:40.416013Z",
     "start_time": "2025-07-06T00:16:40.414353Z"
    }
   },
   "outputs": [],
   "source": [
    "print('We have {a} observations in our aggregate dataset.'.format(a=df.shape[0]))\n"
   ]
  },
  {
   "cell_type": "markdown",
   "metadata": {},
   "source": []
  },
  {
   "cell_type": "markdown",
   "metadata": {},
   "source": [
    "# 1. Housing Inventory - EDA: Single Variable Analysis\n",
    "\n",
    "- [housing_inventory](#housing_inventory)\n",
    "- [housing_permits](#housing_permits)\n",
    "- [mortgage_rate](#mortgage_rate)\n",
    "- [credit](#credit)\n",
    "- [prime_rate](#prime_rate)\n",
    "- [cbsa_code](#cbsa_code)"
   ]
  },
  {
   "cell_type": "markdown",
   "metadata": {},
   "source": [
    "<a id='housing_inventory'></a>\n",
    "\n",
    "## 1.1 housing_inventory\n",
    "\n",
    "First let's look at the housing inventory numbers. This is our explanatory variable, the total number of houses in inventory across CBSA codes for a year/month combination (note: we did use the month/year to associate records, but the time is irrelevant to the scope of this analysis and is, therefore, omitted). For purposes of this analysis, the housing inventory numbers come from the monthly 'total listing count' which the total of both active and pending (offers accepted by deal not closed) by month per geographic area. [1]"
   ]
  },
  {
   "cell_type": "code",
   "execution_count": null,
   "metadata": {
    "ExecuteTime": {
     "end_time": "2025-07-06T00:16:40.430709Z",
     "start_time": "2025-07-06T00:16:40.424118Z"
    }
   },
   "outputs": [],
   "source": [
    "df['housing_inventory'].describe()"
   ]
  },
  {
   "cell_type": "markdown",
   "metadata": {},
   "source": [
    "The mean is quite a bit to the right of the median; so, there is a strong positive/right skew to this data.\n"
   ]
  },
  {
   "cell_type": "code",
   "execution_count": null,
   "metadata": {
    "ExecuteTime": {
     "end_time": "2025-07-06T00:16:40.612661Z",
     "start_time": "2025-07-06T00:16:40.524270Z"
    }
   },
   "outputs": [],
   "source": [
    "hp.plot_hist_numeric(df['housing_inventory'], multiplier_factor=25)"
   ]
  },
  {
   "cell_type": "markdown",
   "metadata": {},
   "source": [
    "This is much heavier skewed to the right than the tabular data indicated. Looking across all geographic areas, we can we there are many months when there are well less than 1,000 units available to buy or to rent.\n"
   ]
  },
  {
   "cell_type": "markdown",
   "metadata": {},
   "source": [
    "<a id='housing_permits'></a>\n",
    "\n",
    "## 1.2 housing_permits\n",
    "Housing permits the subset of building permits (the approval given by a local governing entity across the United States) to commence with new constructtion.[2] Essentially building permits are a check to ensure that licensed contractors are going to be performing the work aligned with zoning restrictions and building codes. Let's look at the housing_permits. This is the number of housing permits per time period per cbsa code (geeographic area)."
   ]
  },
  {
   "cell_type": "code",
   "execution_count": null,
   "metadata": {
    "ExecuteTime": {
     "end_time": "2025-07-06T00:16:40.638728Z",
     "start_time": "2025-07-06T00:16:40.632559Z"
    }
   },
   "outputs": [],
   "source": [
    "df['housing_permits'].describe()"
   ]
  },
  {
   "cell_type": "markdown",
   "metadata": {},
   "source": [
    "Again, the mean number of housing permits is quite a bit larger than the median, so we can expect this to strongly right-skewed again."
   ]
  },
  {
   "cell_type": "code",
   "execution_count": null,
   "metadata": {
    "ExecuteTime": {
     "end_time": "2025-07-06T00:16:40.739568Z",
     "start_time": "2025-07-06T00:16:40.672332Z"
    }
   },
   "outputs": [],
   "source": [
    "hp.plot_hist_numeric(df['housing_permits'], multiplier_factor=25)"
   ]
  },
  {
   "cell_type": "markdown",
   "metadata": {},
   "source": [
    "This has a very similar shape to the housing_inventory variable, but it is important to note the housing permit numbers are an order of magnitude less than the housing inventory numbers."
   ]
  },
  {
   "cell_type": "markdown",
   "metadata": {},
   "source": [
    "<a id='mortgage_rate'></a>\n",
    "\n",
    "## 1.3 mortgage_rate\n",
    "\n",
    "Mortgage rates are the loans individuals take out to purchase home. Federal Home Loan Mortgage Corporation (FHLMC), aka Freddie Mac, is a large, government-owned but publicly traded corporation that extends loans to many individuals. In addition to offering mortgage loans, they also do a weekly summary of mortgage rates of different types called the _Primary Mortgage Market Survey_.[3] For purposes of this analysis we focus on their aggregation and averaging of 30-year fixed rated mortgages."
   ]
  },
  {
   "cell_type": "code",
   "execution_count": null,
   "metadata": {
    "ExecuteTime": {
     "end_time": "2025-07-06T00:16:40.765661Z",
     "start_time": "2025-07-06T00:16:40.759181Z"
    }
   },
   "outputs": [],
   "source": [
    "df['mortgage_rate'].describe()"
   ]
  },
  {
   "cell_type": "markdown",
   "metadata": {},
   "source": [
    "For the mortgage rates, the mean is a little less than median, so we can expect this to have a slight negative skew."
   ]
  },
  {
   "cell_type": "code",
   "execution_count": null,
   "metadata": {
    "ExecuteTime": {
     "end_time": "2025-07-06T00:16:40.835413Z",
     "start_time": "2025-07-06T00:16:40.794806Z"
    }
   },
   "outputs": [],
   "source": [
    "hp.plot_hist_numeric_custom(df['mortgage_rate'], [2.0, 2.5, 3, 3.5, 4, 4.5, 5])"
   ]
  },
  {
   "cell_type": "markdown",
   "metadata": {},
   "source": [
    "Looking at the visualization above, we can see that is the case as there is a slight negative skew with the most prevlant rate being between 3.5 and 4.0%.\n"
   ]
  },
  {
   "cell_type": "markdown",
   "metadata": {},
   "source": [
    "<a id='prime_rate'></a>\n",
    "\n",
    "## 1.4 prime_rate\n",
    "\n",
    "The prime rate is an interest rate actually determined by individual banks and not the Federal Reserve itself; rather the Federal Reserve Board reports the 'prime rate' reported by the majority of the 25 largest banks. [4] Many of the other interest rates use the prime rate as their foundational rate on which to build."
   ]
  },
  {
   "cell_type": "code",
   "execution_count": null,
   "metadata": {
    "ExecuteTime": {
     "end_time": "2025-07-06T00:16:40.862926Z",
     "start_time": "2025-07-06T00:16:40.856287Z"
    }
   },
   "outputs": [],
   "source": [
    "df['prime_rate'].describe()"
   ]
  },
  {
   "cell_type": "markdown",
   "metadata": {},
   "source": [
    "The median and mean of the prime rate are really close around 4.1-4.2%; so, we might expect these rates to be normally distributed."
   ]
  },
  {
   "cell_type": "code",
   "execution_count": null,
   "metadata": {
    "ExecuteTime": {
     "end_time": "2025-07-06T00:16:40.935612Z",
     "start_time": "2025-07-06T00:16:40.897532Z"
    }
   },
   "outputs": [],
   "source": [
    "hp.plot_hist_numeric_custom(df['prime_rate'], [2.0, 2.5, 3, 3.5, 4, 4.5, 5])"
   ]
  },
  {
   "cell_type": "markdown",
   "metadata": {},
   "source": [
    "The visualization fo the prime rate is definitely not normally distributed; in fact is nearly appears to be bi-modal. Curiously the plot for the mortgage rate and the prime rates are not twin images as one might expect. Often 'folksy-wisdom' asserts that the mortgage rates always follow the prime rates; however, we can immediately see that the prime rates are actually greater than the mortgage rates."
   ]
  },
  {
   "cell_type": "markdown",
   "metadata": {},
   "source": [
    "<a id='credit'></a>\n",
    "\n",
    "## 1.5 credit\n",
    "\n",
    "The Federal Reserve defines consumer credit as \"... most credit extended to individuals, excluding loans secured by real estate; includes receivables carried on the balance sheet of the institution as well as outstanding balances of pools upon which securities have been issued.\"[5] In aggregate millions of dollars per month, this essentially reflects how much credit, in aggregate, the individuals are using each month. More credit used means more bills that will need to be paid and cannot be obligated to housing costs.\n"
   ]
  },
  {
   "cell_type": "code",
   "execution_count": null,
   "metadata": {
    "ExecuteTime": {
     "end_time": "2025-07-06T00:16:40.963489Z",
     "start_time": "2025-07-06T00:16:40.957016Z"
    }
   },
   "outputs": [],
   "source": [
    "df['credit'].describe()"
   ]
  },
  {
   "cell_type": "markdown",
   "metadata": {},
   "source": [
    "Looking at the summary revolving credit information, the mean is larger than the median; so, we would expect some positive, right-skewness, to the plot.\n"
   ]
  },
  {
   "cell_type": "code",
   "execution_count": null,
   "metadata": {
    "ExecuteTime": {
     "end_time": "2025-07-06T00:16:41.030226Z",
     "start_time": "2025-07-06T00:16:40.990399Z"
    }
   },
   "outputs": [],
   "source": [
    "hp.plot_hist_numeric_custom(df['credit'], [850000, 900000, 950000, 1000000, 1050000, 1100000])"
   ]
  },
  {
   "cell_type": "markdown",
   "metadata": {},
   "source": [
    "Aligned with expectations, the visualization above is decidedly right-skewed.\n"
   ]
  },
  {
   "cell_type": "markdown",
   "metadata": {},
   "source": [
    "<a id='cbsa_code'></a>\n",
    "\n",
    "## 1.6 cbsa_code\n",
    "\n",
    "The Core-Based Statistical Area codes are a set of metropolitan identifiers set by the Office of Management and Budget. [6] These are key to many of the macro-level economic calculations across the United States. For this analysis, these represent the geographic breakdowns of housing inventory data. While there also combined statistical areas (CSAs), this analysis leverages the CBSA codes as defined by OMB in 2015 (based on the 2010 Census). The total set of CBSA codes i s 935; so, let's see how many unique CBSA codes we have in our data set.[7]"
   ]
  },
  {
   "cell_type": "code",
   "execution_count": null,
   "metadata": {
    "ExecuteTime": {
     "end_time": "2025-07-06T00:16:41.054069Z",
     "start_time": "2025-07-06T00:16:41.051336Z"
    }
   },
   "outputs": [],
   "source": [
    "print('Across this dataset, there are {a} unique CBSA codes'.format(a=df['cbsa_code'].nunique()))"
   ]
  },
  {
   "cell_type": "markdown",
   "metadata": {},
   "source": [
    "It looks like we have 383 unique CBSA codes in our dataset. This is substantially less than the 935 total. Let's do a quick check against the CBSA codes in the raw housing inventory data."
   ]
  },
  {
   "cell_type": "code",
   "execution_count": null,
   "metadata": {
    "ExecuteTime": {
     "end_time": "2025-07-06T00:16:41.113440Z",
     "start_time": "2025-07-06T00:16:41.097329Z"
    }
   },
   "outputs": [],
   "source": [
    "db_con = conv.create_connection()\n",
    "result = list(db_con.get('con').execute(query.cbsa_query))\n",
    "conv.close_connection(db_con.get('con'))\n",
    "tabulate(result, headers=['Unique CBSA Codes'], tablefmt='html')"
   ]
  },
  {
   "cell_type": "markdown",
   "metadata": {},
   "source": [
    "Well 383 is definitely less than 917. This is probably do to the manner in which we inner-join across multiple tables to minimize missing data. In the future is would be good to re-analyze with meaningful approxiations/estimates instead of functionally dropping the entire observation.\n"
   ]
  },
  {
   "cell_type": "markdown",
   "metadata": {},
   "source": [
    "Let's look at the number for each CBSA code we do have in our final aggregate dataset."
   ]
  },
  {
   "cell_type": "code",
   "execution_count": null,
   "metadata": {
    "ExecuteTime": {
     "end_time": "2025-07-06T00:16:41.121967Z",
     "start_time": "2025-07-06T00:16:41.117472Z"
    }
   },
   "outputs": [],
   "source": [
    "df['cbsa_code'].value_counts().sort_values(ascending=False)"
   ]
  },
  {
   "cell_type": "markdown",
   "metadata": {},
   "source": [
    "Looking at the counts, 49 is the expected number (12 months * 4 years + 1 extra month of data). 22 is interesting as is implies there are time-frames when certain areas did not provide data."
   ]
  },
  {
   "cell_type": "markdown",
   "metadata": {},
   "source": [
    "# 2. Housing Inventory - EDA: Paired Variable Analysis\n",
    "\n",
    "Moving from the single variable analysis to the paired analysis, the relationships we are exploring to explain housing inventory across multiple datasets as expressed in the [Housing Inventory - Ask](Housing%20Inventory%20-%20Ask.ipynb) notebook, we should really look at correlations between each of the explanatory variables we've included\n",
    "\n",
    "- [housing_permits](#v_housing_permits)\n",
    "- [mortgage_rate](#v_mortgage_rate)\n",
    "- [credit](#v_credit)\n",
    "- [prime_rate](#v_prime_rate)\n",
    "- [cbsa_code](#v_cbsa_code)"
   ]
  },
  {
   "cell_type": "markdown",
   "metadata": {},
   "source": [
    "<a id='v_housing_permits'></a>\n",
    "\n",
    "## 2.1 housing_inventory vs. housing_permits\n",
    "\n",
    "Realistically, there should be some lag between the number of housing permits and the number of houses available in inventory at any point in time. Depending on particular localities with respect to work force availability and building supplies, it could take anywhere from 3 weeks to 6 months from the time a building permit is awarded to the time it is available in inventory. This caveat aside, given the time-agnostic focus of this study, we might expect the there to be a noticeable trend between the number of building permits issued and a rise in housing inventory. Let's check the correlation coefficients."
   ]
  },
  {
   "cell_type": "code",
   "execution_count": null,
   "metadata": {
    "ExecuteTime": {
     "end_time": "2025-07-06T00:16:41.174532Z",
     "start_time": "2025-07-06T00:16:41.146181Z"
    }
   },
   "outputs": [],
   "source": [
    "corr = hp.get_correlations(df=df, colA='housing_inventory', colB='housing_permits')\n",
    "print('Pearson\\'s correlation coefficient is {a}\\n\\t and Spearman\\'s rho is {b}'.format(a=round(corr['pearson'], 3),\n",
    "                                                                                        b=round(corr['spearman'], 3)))"
   ]
  },
  {
   "cell_type": "markdown",
   "metadata": {},
   "source": [
    "Both numeric measures indicate a strong positive correlation between housing inventory and housing permits. Let's check the scatter plot.\n"
   ]
  },
  {
   "cell_type": "code",
   "execution_count": null,
   "metadata": {
    "ExecuteTime": {
     "end_time": "2025-07-06T00:16:41.389535Z",
     "start_time": "2025-07-06T00:16:41.196299Z"
    }
   },
   "outputs": [],
   "source": [
    "hp.plot_scatter(my_data=df, y_col='housing_inventory', x_col='housing_permits')"
   ]
  },
  {
   "cell_type": "markdown",
   "metadata": {},
   "source": [
    "While the plot is not the cleanest, there is still a clear positive correlation between the number of building permits issued and the number of houses in inventory."
   ]
  },
  {
   "cell_type": "markdown",
   "metadata": {},
   "source": [
    "<a id='v_mortgage_rate'></a>\n",
    "\n",
    "## 2.2 housing_inventory vs. mortgage_rate\n",
    "\n",
    "Given that higher mortgage rates lead to fewer people being able to afford new home loans (and secondarily potentially causing landlords to raise rent), we would expect a positive correlation between mortgage rates and housing inventory. Restated, the higher the mortgage rates, the more housing inventory we should expect. Let's check the correlation coefficients."
   ]
  },
  {
   "cell_type": "code",
   "execution_count": null,
   "metadata": {
    "ExecuteTime": {
     "end_time": "2025-07-06T00:16:41.420451Z",
     "start_time": "2025-07-06T00:16:41.398581Z"
    }
   },
   "outputs": [],
   "source": [
    "corr = hp.get_correlations(df=df, colA='housing_inventory', colB='mortgage_rate')\n",
    "print('Pearson\\'s correlation coefficient is {a}\\n\\t and Spearman\\'s rho is {b}'.format(a=round(corr['pearson'], 3),\n",
    "                                                                                        b=round(corr['spearman'], 3)))"
   ]
  },
  {
   "cell_type": "markdown",
   "metadata": {},
   "source": [
    "Mathematically, it looks like this is a very weak positive correlation. It is only weakly linear, and it is barely monotonic at that. Let's check the scatter plot."
   ]
  },
  {
   "cell_type": "code",
   "execution_count": null,
   "metadata": {
    "ExecuteTime": {
     "end_time": "2025-07-06T00:16:41.578143Z",
     "start_time": "2025-07-06T00:16:41.429458Z"
    }
   },
   "outputs": [],
   "source": [
    "hp.plot_scatter(my_data=df, y_col='housing_inventory', x_col='mortgage_rate')"
   ]
  },
  {
   "cell_type": "markdown",
   "metadata": {},
   "source": [
    "This is interesting in that is illustrates there is almost no relationship between mortgage rates and housing inventory. While there are some outliers of high-inventory at low interest rates, on the whole, there is only a very small relationship between the mortgage rate and the available housing inventory.\n"
   ]
  },
  {
   "cell_type": "markdown",
   "metadata": {},
   "source": [
    "<a id='v_credit'></a>\n",
    "\n",
    "## 2.3 housing_inventory vs. credit\n",
    "\n",
    "Outstanding revolving credit would be expected to have weak direct relation to an increase in housing inventory. If more people are taking on more debt (not associated with real estate), then that can be expected to correlate with fewer house purchases and a slight increase in housing inventory. Let's check the correlation coefficients."
   ]
  },
  {
   "cell_type": "code",
   "execution_count": null,
   "metadata": {
    "ExecuteTime": {
     "end_time": "2025-07-06T00:16:41.611825Z",
     "start_time": "2025-07-06T00:16:41.589418Z"
    }
   },
   "outputs": [],
   "source": [
    "corr = hp.get_correlations(df=df, colA='housing_inventory', colB='credit')\n",
    "print('Pearson\\'s correlation coefficient is {a}\\n\\t and Spearman\\'s rho is {b}'.format(a=round(corr['pearson'], 3),\n",
    "                                                                                        b=round(corr['spearman'], 3)))"
   ]
  },
  {
   "cell_type": "markdown",
   "metadata": {},
   "source": [
    "Very interesting as there appears to be **very slight** negative correlation; this would imply there is actually a slight decrease in housing inventory when people accumulate credit card debt. Perhaps the builders and other potential seller anticipate a tightening of the market and don't build as many or put their own house on the market, respectively. Moreover, aligned with this, Spearman's $\\rho$ is also slightly negative; so, slightly monotonicly decreasing. Let's look at the scatter plot.\n"
   ]
  },
  {
   "cell_type": "code",
   "execution_count": null,
   "metadata": {
    "ExecuteTime": {
     "end_time": "2025-07-06T00:16:41.769419Z",
     "start_time": "2025-07-06T00:16:41.618947Z"
    }
   },
   "outputs": [],
   "source": [
    "hp.plot_scatter(my_data=df, y_col='housing_inventory', x_col='credit')"
   ]
  },
  {
   "cell_type": "markdown",
   "metadata": {},
   "source": [
    "This plot is very similar in appearance to the housing inventory vs. mortgage rates visualization. There is no apparent correlation between the overall amount of outstanding credit (also, recall that each unit of credit is 1,000,000, to 1.1E6 on the graph is actually $1.1E12 across the population of the United States) and amount of housing inventory available."
   ]
  },
  {
   "cell_type": "markdown",
   "metadata": {},
   "source": [
    "<a id='v_prime_rate'></a>\n",
    "\n",
    "## 2.4 housing_inventory vs. prime_rate\n",
    "\n",
    "Given the prime rate actually the average rate of what large banks use for lending money and given that mortgage interest is a substantial revenue stream for most banks and credit unions, one would expect the prime rate and mortgage rate to be correlated strongly. Resultantly, here, we would expect the prime rate to look very similar to the mortgage rate. Let's check the correlation coeffients."
   ]
  },
  {
   "cell_type": "code",
   "execution_count": null,
   "metadata": {
    "ExecuteTime": {
     "end_time": "2025-07-06T00:16:41.800609Z",
     "start_time": "2025-07-06T00:16:41.778870Z"
    }
   },
   "outputs": [],
   "source": [
    "corr = hp.get_correlations(df=df, colA='housing_inventory', colB='prime_rate')\n",
    "print('Pearson\\'s correlation coefficient is {a}\\n\\t and Spearman\\'s rho is {b}'.format(a=round(corr['pearson'], 3),\n",
    "                                                                                        b=round(corr['spearman'], 3)))"
   ]
  },
  {
   "cell_type": "markdown",
   "metadata": {},
   "source": [
    "As expected, the prime rate has almost the exact correlation coefficient and Spearman's $\\rho$ as the prime rate. Let's check the scatter plot."
   ]
  },
  {
   "cell_type": "code",
   "execution_count": null,
   "metadata": {
    "ExecuteTime": {
     "end_time": "2025-07-06T00:16:41.953051Z",
     "start_time": "2025-07-06T00:16:41.808369Z"
    }
   },
   "outputs": [],
   "source": [
    "hp.plot_scatter(my_data=df, y_col='housing_inventory', x_col='prime_rate')\n"
   ]
  },
  {
   "cell_type": "markdown",
   "metadata": {},
   "source": [
    "As expected, the shape of the prime rate visualization is very similar to the shape of the mortgage rate visualization against housing inventory as the response variable. The only real difference of note is that the mortgage rate is actually slightly **lower** than the prime rate. At the surface, this does not make great sense as many of the advertisements for lending (credit cards, in particular) talk in terms of the prime rate plus a percentage. This is due to mortgage rates for 30-year fixed rate mortgages (like we are working to explain in this analysis) are to the 10-year Treasury bond rate.[8]\n"
   ]
  },
  {
   "cell_type": "markdown",
   "metadata": {},
   "source": [
    "<a id='v_cbsa_code'></a>\n",
    "\n",
    "## 2.5 housing_inventory vs. cbsa_code\n",
    "\n",
    "As we are using raw CBSA codes without additional area aggregation, there is no expectation to identify codes with surge or decline in housing inventory. This caveat aside, let's tabulate the housing inventory by cbsa code."
   ]
  },
  {
   "cell_type": "code",
   "execution_count": null,
   "metadata": {
    "ExecuteTime": {
     "end_time": "2025-07-06T00:16:42.077986Z",
     "start_time": "2025-07-06T00:16:41.960929Z"
    }
   },
   "outputs": [],
   "source": [
    "t_grouped = df.groupby('cbsa_code')\n",
    "t_grouped_y = t_grouped['housing_inventory'].describe().sort_values('max', ascending=False)\n",
    "tabulate(t_grouped_y, headers=['cbsa', 'count', 'mean', 'sd', 'min', 'Q1', 'Q2', 'Q3', 'max'], tablefmt='html')"
   ]
  },
  {
   "cell_type": "markdown",
   "metadata": {},
   "source": [
    "Let's lookup the top three to see where they are at:"
   ]
  },
  {
   "cell_type": "code",
   "execution_count": null,
   "metadata": {
    "ExecuteTime": {
     "end_time": "2025-07-06T00:16:42.121375Z",
     "start_time": "2025-07-06T00:16:42.111750Z"
    }
   },
   "outputs": [],
   "source": [
    "db_con = conv.create_connection()\n",
    "result = list(db_con.get('con').execute(query.cbsa_top3))\n",
    "conv.close_connection(db_con.get('con'))\n",
    "\n",
    "tabulate(result, headers=['CBSA Title'], tablefmt='html')"
   ]
  },
  {
   "cell_type": "markdown",
   "metadata": {},
   "source": [
    "Interesting the top areas in aggregate across the 49 time reporting periods are the composite metro areas across New York-Jersey City, Chicago-Naperville-Elgin, and Miami-Ft. Lauderdale-West Palm Beach areas. Intuitively, one might have thought that a Southern California area might break into the top three.\n",
    "\n",
    "---\n",
    "\n",
    "# References\n",
    "\n",
    "[1]  Realtor.com. (n.d.). Realtor.com Real Estate Data and Market Trends for Download. Realtor.Com Economic Research. Retrieved November 28, 2021, from https://www.realtor.com/research/data/\n",
    "\n",
    "[2] US Census Bureau (MCD): Cheryl Cornish, Stephen Cooper, Salima Jenkins. (n.d.). Building Permits Survey Definitions Page. Census Bureau. Retrieved November 28, 2021, from https://www.census.gov/construction/bps/definitions/#b\n",
    "\n",
    "[3] Freddie Mac. (2021, November 24). Mortgage Rates - Freddie Mac. Mortgage Rates. Retrieved November 28, 2021, from http://www.freddiemac.com/pmms/\n",
    "\n",
    "[4] Federal Reserve. (n.d.). The Fed - What is the prime rate, and does the Federal Reserve set the prime rate? Board of Governors of the Federal Reserve System. Retrieved November 28, 2021, from https://www.federalreserve.gov/faqs/credit_12846.htm\n",
    "\n",
    "[5] The Fed - Consumer Credit - G.19. (n.d.). Consumer Credit. Retrieved November 28, 2021, from https://www.federalreserve.gov/Releases/g19/current/\n",
    "\n",
    "[6] United States Federal Government. (n.d.). Core Based Statistical Areas (National) - CKAN. Data.Gov. Retrieved November 28, 2021, from https://catalog.data.gov/dataset/core-based-statistical-areas-national\n",
    "\n",
    "[7] Wikipedia contributors. (2021, July 14). Core-based statistical area. Wikipedia. Retrieved November 29, 2021, from https://en.wikipedia.org/wiki/Core-based_statistical_area\n",
    "\n",
    "[8] Ostrowski, J. (2021, September 23). How The Fed’s Rate Decisions Affect Mortgage Rates. Bankrate. Retrieved November 30, 2021, from https://www.bankrate.com/mortgages/federal-reserve-and-mortgage-rates/"
   ]
  }
 ],
 "metadata": {
  "kernelspec": {
   "display_name": "Python 3 (ipykernel)",
   "language": "python",
   "name": "python3"
  },
  "language_info": {
   "codemirror_mode": {
    "name": "ipython",
    "version": 3
   },
   "file_extension": ".py",
   "mimetype": "text/x-python",
   "name": "python",
   "nbconvert_exporter": "python",
   "pygments_lexer": "ipython3",
   "version": "3.12.11"
  }
 },
 "nbformat": 4,
 "nbformat_minor": 4
}
